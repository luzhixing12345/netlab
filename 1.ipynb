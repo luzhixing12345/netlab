{
 "cells": [
  {
   "cell_type": "code",
   "execution_count": null,
   "metadata": {},
   "outputs": [],
   "source": [
    "from socket import *\n",
    "\n",
    "# 创建UDP套接字\n",
    "serverSocket = socket(AF_INET, SOCK_DGRAM)\n",
    "# 绑定本机IP地址和端口号\n",
    "serverSocket.bind(('', 12000))\n",
    "\n",
    "print(serverSocket)"
   ]
  },
  {
   "cell_type": "code",
   "execution_count": null,
   "metadata": {},
   "outputs": [],
   "source": [
    "from socket import *\n",
    "\n",
    "# 创建UDP套接字\n",
    "serverSocket = socket(AF_INET, SOCK_DGRAM)\n",
    "# 绑定本机IP地址和端口号\n",
    "serverSocket.bind(('', 12000))\n",
    "\n",
    "########## Begin ##########\n",
    "# 接收客户端消息\n",
    "message, address = serverSocket.recvfrom(1024)\n",
    "# 将数据包消息转换为大写\n",
    "message = message.upper()\n",
    "#将消息传回给客户端\n",
    "serverSocket.sendto(message, address)"
   ]
  },
  {
   "cell_type": "code",
   "execution_count": null,
   "metadata": {},
   "outputs": [],
   "source": [
    "\n",
    "from socket import *\n",
    "\n",
    "########## Begin ##########\n",
    "clientSocket = socket(AF_INET, SOCK_DGRAM) # 创建UDP套接字,使用IPv4协议\n",
    "# 设置套接字超时值1秒\n",
    "clientSocket.settimeout(1)\n",
    "########## End ##########\n",
    "\n",
    "print(clientSocket)\n",
    "print(clientSocket.gettimeout())\n"
   ]
  },
  {
   "cell_type": "code",
   "execution_count": null,
   "metadata": {},
   "outputs": [],
   "source": [
    "from socket import *\n",
    "import time\n",
    "\n",
    "serverName = '127.0.0.1' # 服务器地址,本例中使用本机地址\n",
    "serverPort = 12000 # 服务器指定的端口\n",
    "clientSocket = socket(AF_INET, SOCK_DGRAM) # 创建UDP套接字,使用IPv4协议\n",
    "clientSocket.settimeout(1) # 设置套接字超时值1秒\n",
    "\n",
    "for i in range(0, 9):\n",
    "    sendTime = time.time()\n",
    "    message = ('Ping %d %s' % (i+1, sendTime)).encode()     # 生成数据报,编码为bytes以便发送\n",
    "\t\n",
    "    try:\n",
    "    \t\n",
    "    \t########## Begin ##########\n",
    "    \t# 将信息发送到服务器\n",
    "        clientSocket.sendto(message, (serverName, serverPort))\n",
    "\n",
    "\t\t# 从服务器接收信息,同时也能得到服务器地址\n",
    "        modifiedMessage, serverAddress = clientSocket.recvfrom(1024)\n",
    "        ########## End ##########\n",
    "    \n",
    "        rtt = time.time() - sendTime # 计算往返时间\n",
    "        print('Sequence %d: Reply from %s    RTT = %.3fs' % (i+1, serverName, rtt)) # 显示信息\n",
    "    except Exception as e:\n",
    "        print('Sequence %d: Request timed out.' % (i+1))\n",
    "\t\t\n",
    "clientSocket.close() # 关闭套接字"
   ]
  }
 ],
 "metadata": {
  "language_info": {
   "name": "python"
  }
 },
 "nbformat": 4,
 "nbformat_minor": 2
}
